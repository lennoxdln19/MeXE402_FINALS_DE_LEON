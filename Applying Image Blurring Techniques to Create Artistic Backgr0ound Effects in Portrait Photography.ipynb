{
 "cells": [
  {
   "cell_type": "markdown",
   "metadata": {},
   "source": [
    "# Applying Image Blurring Techniques to Create Artistic Background Effects in Portrait Photography"
   ]
  },
  {
   "cell_type": "markdown",
   "metadata": {},
   "source": [
    "## Importing Libraries"
   ]
  },
  {
   "cell_type": "code",
   "execution_count": null,
   "metadata": {},
   "outputs": [],
   "source": [
    "import cv2\n",
    "import numpy as np\n",
    "import torch\n",
    "from torchvision import models, transforms\n",
    "import matplotlib.pyplot as plt"
   ]
  },
  {
   "cell_type": "markdown",
   "metadata": {},
   "source": [
    "## Preparing the Data Set"
   ]
  },
  {
   "cell_type": "code",
   "execution_count": null,
   "metadata": {},
   "outputs": [],
   "source": [
    "def blur_background_with_deeplab(image_path, blur_kernel=(51, 51)):\n",
    "    # Load DeepLabv3 model\n",
    "    model = models.segmentation.deeplabv3_resnet101(weights=\"DEFAULT\").eval()\n",
    "\n",
    "    # Load the input image\n",
    "    image = cv2.imread(image_path)\n",
    "    if image is None:\n",
    "        print(f\"Error: Unable to read image at {image_path}.\")\n",
    "        return None, None\n",
    "\n",
    "    # Convert BGR to RGB\n",
    "    image_rgb = cv2.cvtColor(image, cv2.COLOR_BGR2RGB)\n",
    "\n",
    "    # Transform image for DeepLabv3\n",
    "    preprocess = transforms.Compose([\n",
    "        transforms.ToPILImage(),\n",
    "        transforms.Resize((520, 520)),  # Resize to the model's input size\n",
    "        transforms.ToTensor(),\n",
    "        transforms.Normalize(mean=[0.485, 0.456, 0.406], std=[0.229, 0.224, 0.225]),\n",
    "    ])\n",
    "    input_tensor = preprocess(image_rgb).unsqueeze(0)\n",
    "\n",
    "    # Perform segmentation\n",
    "    with torch.no_grad():\n",
    "        output = model(input_tensor)['out'][0]\n",
    "    segmentation = output.argmax(0).byte().cpu().numpy()\n",
    "\n",
    "    # Resize segmentation map to match the original image size\n",
    "    segmentation = cv2.resize(segmentation, (image.shape[1], image.shape[0]), interpolation=cv2.INTER_NEAREST)\n",
    "\n",
    "    # Create masks\n",
    "    mask_subject = np.where(segmentation == 15, 1, 0).astype('uint8')  # Class 15 corresponds to 'person'\n",
    "    mask_subject = mask_subject * 255  # Scale to 0-255 for OpenCV operations\n",
    "    mask_background = cv2.bitwise_not(mask_subject)\n",
    "\n",
    "    # Blur the background\n",
    "    blurred_image = cv2.GaussianBlur(image, blur_kernel, 0)\n",
    "\n",
    "    # Combine subject and blurred background\n",
    "    subject = cv2.bitwise_and(image, image, mask=mask_subject)\n",
    "    background = cv2.bitwise_and(blurred_image, blurred_image, mask=mask_background)\n",
    "    result = cv2.add(subject, background)\n",
    "\n",
    "    # Convert original image and result to RGB for display\n",
    "    original_rgb = cv2.cvtColor(image, cv2.COLOR_BGR2RGB)\n",
    "    result_rgb = cv2.cvtColor(result, cv2.COLOR_BGR2RGB)\n",
    "\n",
    "    return original_rgb, result_rgb"
   ]
  },
  {
   "cell_type": "markdown",
   "metadata": {},
   "source": [
    "## Processing the Results"
   ]
  },
  {
   "cell_type": "code",
   "execution_count": null,
   "metadata": {},
   "outputs": [],
   "source": [
    "def plot_separate_images(image_paths, plot_all=False, single_image=None):\n",
    "    if plot_all:\n",
    "        # Process and plot each image separately\n",
    "        for image_path in image_paths:\n",
    "            original_rgb, result_rgb = blur_background_with_deeplab(image_path)\n",
    "            if original_rgb is not None and result_rgb is not None:\n",
    "                # Create a new figure for each image\n",
    "                plt.figure(figsize=(10, 5))\n",
    "\n",
    "                # Original image\n",
    "                plt.subplot(1, 2, 1)\n",
    "                plt.imshow(original_rgb)\n",
    "                plt.title(f\"Original {image_path}\")\n",
    "                plt.axis('off')\n",
    "\n",
    "                # Blurred image\n",
    "                plt.subplot(1, 2, 2)\n",
    "                plt.imshow(result_rgb)\n",
    "                plt.title(f\"Artistic Background {image_path}\")\n",
    "                plt.axis('off')\n",
    "\n",
    "                plt.show()\n",
    "    elif single_image:\n",
    "        # Process and plot only the selected single image\n",
    "        if single_image in image_paths:\n",
    "            original_rgb, result_rgb = blur_background_with_deeplab(single_image)\n",
    "            if original_rgb is not None and result_rgb is not None:\n",
    "                # Create a new figure for the single image\n",
    "                plt.figure(figsize=(10, 5))\n",
    "\n",
    "                # Original image\n",
    "                plt.subplot(1, 2, 1)\n",
    "                plt.imshow(original_rgb)\n",
    "                plt.title(f\"Original {single_image}\")\n",
    "                plt.axis('off')\n",
    "\n",
    "                # Blurred image\n",
    "                plt.subplot(1, 2, 2)\n",
    "                plt.imshow(result_rgb)\n",
    "                plt.title(f\"Artistic Background {single_image}\")\n",
    "                plt.axis('off')\n",
    "\n",
    "                plt.show()\n",
    "        else:\n",
    "            print(f\"Image '{single_image}' not found in the folder.\")\n",
    "    else:\n",
    "        print(\"No valid option selected. Please choose 'all' or a valid single image.\")"
   ]
  },
  {
   "cell_type": "markdown",
   "metadata": {},
   "source": [
    "## Swowing the Result"
   ]
  },
  {
   "cell_type": "code",
   "execution_count": null,
   "metadata": {},
   "outputs": [],
   "source": [
    "# Example usage\n",
    "image_paths = ['01.jpg', '02.jpg', '03.jpg', '04.jpg', '05.jpg']  # List of image paths\n",
    "\n",
    "# Ask user if they want to process all images or just one\n",
    "user_choice = '01.jpg'\n",
    "\n",
    "if user_choice == \"all\":\n",
    "    plot_separate_images(image_paths, plot_all=True)\n",
    "elif user_choice in image_paths:\n",
    "    plot_separate_images(image_paths, single_image=user_choice)\n",
    "else:\n",
    "    print(\"Invalid input. Please enter 'all' or a valid image filename.\")"
   ]
  }
 ],
 "metadata": {
  "kernelspec": {
   "display_name": "Python 3",
   "language": "python",
   "name": "python3"
  },
  "language_info": {
   "codemirror_mode": {
    "name": "ipython",
    "version": 3
   },
   "file_extension": ".py",
   "mimetype": "text/x-python",
   "name": "python",
   "nbconvert_exporter": "python",
   "pygments_lexer": "ipython3",
   "version": "3.11.9"
  }
 },
 "nbformat": 4,
 "nbformat_minor": 2
}
